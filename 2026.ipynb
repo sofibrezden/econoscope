{
 "cells": [
  {
   "cell_type": "code",
   "execution_count": 19,
   "metadata": {
    "collapsed": true,
    "ExecuteTime": {
     "end_time": "2024-11-24T15:05:42.318913600Z",
     "start_time": "2024-11-24T15:05:42.273217400Z"
    }
   },
   "outputs": [],
   "source": [
    "import pandas as pd\n",
    "import numpy as np\n",
    "import matplotlib.pyplot as plt\n",
    "from pmdarima import auto_arima\n",
    "from sklearn.metrics import r2_score, mean_squared_error, mean_absolute_percentage_error\n",
    "from statsmodels.tsa.arima.model import ARIMA\n",
    "from statsmodels.tsa.statespace.sarimax import SARIMAX\n",
    "import math\n",
    "from statsmodels.tsa.seasonal import seasonal_decompose\n"
   ]
  },
  {
   "cell_type": "code",
   "execution_count": 20,
   "outputs": [],
   "source": [
    "final_data = pd.read_csv('./final_data.csv')\n",
    "result2025 = pd.read_csv('./result_sarima_arima.csv')\n"
   ],
   "metadata": {
    "collapsed": false,
    "ExecuteTime": {
     "end_time": "2024-11-24T15:06:02.539485300Z",
     "start_time": "2024-11-24T15:06:02.445624600Z"
    }
   }
  },
  {
   "cell_type": "code",
   "execution_count": 21,
   "outputs": [],
   "source": [
    "historical_data = final_data\n",
    "forecast_data = result2025"
   ],
   "metadata": {
    "collapsed": false,
    "ExecuteTime": {
     "end_time": "2024-11-24T15:06:04.756959900Z",
     "start_time": "2024-11-24T15:06:04.722928300Z"
    }
   }
  },
  {
   "cell_type": "code",
   "execution_count": 24,
   "outputs": [
    {
     "name": "stdout",
     "output_type": "stream",
     "text": [
      "       Age    Sex                   Country  Unemployment Rate (%)  Year  \\\n",
      "32367  25+  Total  United States of America               0.029308  2025   \n",
      "32368  25+  Total  United States of America               0.029101  2025   \n",
      "32369  25+  Total  United States of America               0.028894  2025   \n",
      "32370  25+  Total  United States of America               0.028688  2025   \n",
      "32371  25+  Total  United States of America               0.028481  2025   \n",
      "\n",
      "       Month  \n",
      "32367      8  \n",
      "32368      9  \n",
      "32369     10  \n",
      "32370     11  \n",
      "32371     12  \n"
     ]
    }
   ],
   "source": [
    "import pandas as pd\n",
    "\n",
    "# Ініціалізація оновленого датасету\n",
    "updated_data = historical_data.copy()\n",
    "\n",
    "# Обробка прогнозів для кожної комбінації країни, вікової групи і статі\n",
    "for _, group in forecast_data.groupby([\"Country\", \"Age\", \"Sex\"]):\n",
    "    # Вибір найкращої моделі для цієї комбінації\n",
    "    best_model = group.loc[group['RMSE'].idxmin()]\n",
    "\n",
    "    # Фільтрація даних для найкращої моделі\n",
    "    best_forecast = group[group['Model'] == best_model['Model']]\n",
    "\n",
    "    # Перетворення дат\n",
    "    best_forecast = best_forecast.rename(columns={\"Date\": \"Year-Month\"})\n",
    "    best_forecast['Year'] = pd.to_datetime(best_forecast['Year-Month']).dt.year\n",
    "    best_forecast['Month'] = pd.to_datetime(best_forecast['Year-Month']).dt.month\n",
    "\n",
    "    # Вибір потрібних колонок\n",
    "    best_forecast = best_forecast[[\"Age\", \"Sex\", \"Country\", \"Forecast\", \"Year\", \"Month\"]]\n",
    "    best_forecast = best_forecast.rename(columns={\"Forecast\": \"Unemployment Rate (%)\"})\n",
    "\n",
    "    # Додавання прогнозів до оновленого датасету\n",
    "    updated_data = pd.concat([updated_data, best_forecast], ignore_index=True)\n",
    "\n",
    "# Збереження оновленого датасету\n",
    "updated_data.to_csv(\"updated_data.csv\", index=False)\n",
    "\n",
    "# Перевірка результату\n",
    "print(updated_data.tail())\n"
   ],
   "metadata": {
    "collapsed": false,
    "ExecuteTime": {
     "end_time": "2024-11-24T15:07:03.384761600Z",
     "start_time": "2024-11-24T15:07:03.063198200Z"
    }
   }
  },
  {
   "cell_type": "code",
   "execution_count": 11,
   "outputs": [],
   "source": [
    "initial_data = final_data\n",
    "model_performance = result2025"
   ],
   "metadata": {
    "collapsed": false,
    "ExecuteTime": {
     "end_time": "2024-11-24T14:44:09.793477600Z",
     "start_time": "2024-11-24T14:44:09.790102200Z"
    }
   }
  },
  {
   "cell_type": "markdown",
   "source": [],
   "metadata": {
    "collapsed": false
   }
  },
  {
   "cell_type": "code",
   "execution_count": 12,
   "outputs": [
    {
     "name": "stdout",
     "output_type": "stream",
     "text": [
      "Initial Data Sample:\n",
      "   Age     Sex  Country  Unemployment Rate (%)  Year  Month\n",
      "0  25+  Female  Ireland                  0.096  2014      4\n",
      "1  25+   Total   Norway                  0.028  2014     10\n",
      "2  25+    Male  Iceland                  0.052  2021      1\n",
      "3  25+    Male  Iceland                  0.049  2021      2\n",
      "4  25+    Male  Iceland                  0.048  2021      3\n",
      "\n",
      "Model Performance Data Sample:\n",
      "    Model Country    Age   Sex        Date  Forecast       R^2      MSE  \\\n",
      "0  SARIMA   Italy  15-24  Male  2025-01-01  0.181034  0.979012  0.00006   \n",
      "1  SARIMA   Italy  15-24  Male  2025-02-01  0.181034  0.979012  0.00006   \n",
      "2  SARIMA   Italy  15-24  Male  2025-03-01  0.181034  0.979012  0.00006   \n",
      "3  SARIMA   Italy  15-24  Male  2025-04-01  0.171053  0.979012  0.00006   \n",
      "4  SARIMA   Italy  15-24  Male  2025-05-01  0.171053  0.979012  0.00006   \n",
      "\n",
      "      RMSE    MAPE  \n",
      "0  0.00777  0.0114  \n",
      "1  0.00777  0.0114  \n",
      "2  0.00777  0.0114  \n",
      "3  0.00777  0.0114  \n",
      "4  0.00777  0.0114  \n",
      "\n",
      "Best Models per Group:\n",
      "                       Country    Age     Sex   Model      RMSE\n",
      "1572                    Canada  15-24  Female  SARIMA  0.018716\n",
      "1560                    Canada  15-24    Male  SARIMA  0.016724\n",
      "1584                    Canada  15-24   Total  SARIMA  0.014752\n",
      "1608                    Canada    25+  Female  SARIMA  0.005755\n",
      "1596                    Canada    25+    Male  SARIMA  0.006455\n",
      "...                        ...    ...     ...     ...       ...\n",
      "1092  United States of America  15-24    Male   ARIMA  0.016977\n",
      "1140  United States of America  15-24   Total   ARIMA  0.019224\n",
      "1188  United States of America    25+  Female   ARIMA  0.010910\n",
      "1164  United States of America    25+    Male   ARIMA  0.008510\n",
      "1212  United States of America    25+   Total   ARIMA  0.009468\n",
      "\n",
      "[101 rows x 5 columns]\n",
      "\n",
      "Forecast Data Sample:\n",
      "        Age     Sex Country  Unemployment Rate (%)  Year  Month\n",
      "1572  15-24  Female  Canada               0.103789  2025      1\n",
      "1560  15-24    Male  Canada               0.156584  2025      1\n",
      "1584  15-24   Total  Canada               0.127418  2025      1\n",
      "1608    25+  Female  Canada               0.049993  2025      1\n",
      "1596    25+    Male  Canada               0.063289  2025      1\n",
      "\n",
      "Combined Data Sample:\n",
      "       Age    Sex  Country  Unemployment Rate (%)  Year  Month\n",
      "30923  25+  Total  Uruguay               0.058608  2024      2\n",
      "30924  25+  Total  Uruguay               0.062042  2024      3\n",
      "30925  25+  Total  Uruguay               0.059679  2024      4\n",
      "30926  25+  Total  Uruguay               0.058946  2024      5\n",
      "30927  25+  Total  Uruguay               0.054471  2024      6\n"
     ]
    }
   ],
   "source": [
    "\n",
    "\n",
    "# Display the first few rows of the datasets for verification\n",
    "print(\"Initial Data Sample:\")\n",
    "print(initial_data.head())\n",
    "print(\"\\nModel Performance Data Sample:\")\n",
    "print(model_performance.head())\n",
    "\n",
    "# -----------------------------\n",
    "# Step 2: Select the Best Model\n",
    "# -----------------------------\n",
    "\n",
    "# Ensure that 'RMSE' column exists\n",
    "if 'RMSE' not in model_performance.columns:\n",
    "    raise KeyError(\"The model performance dataset must contain an 'RMSE' column.\")\n",
    "\n",
    "# Select the best model per group based on the lowest RMSE\n",
    "# Assuming that each row in model_performance corresponds to a forecast from a specific model\n",
    "\n",
    "# Group by Country, Age, Sex and select the model with the minimum RMSE within each group\n",
    "best_models = model_performance.loc[model_performance.groupby(['Country', 'Age', 'Sex'])['RMSE'].idxmin()]\n",
    "\n",
    "# Display the selected best models\n",
    "print(\"\\nBest Models per Group:\")\n",
    "print(best_models[['Country', 'Age', 'Sex', 'Model', 'RMSE']])\n",
    "\n",
    "# -----------------------------\n",
    "# Step 3: Prepare Forecast Data\n",
    "# -----------------------------\n",
    "\n",
    "# We'll assume that 'result_sarima_arima.csv' contains both model performance metrics and forecasted values\n",
    "# If forecasts are in a separate file, adjust the code accordingly\n",
    "\n",
    "# Extract forecasted data from the best models\n",
    "# Assuming that forecasted values are in the 'Forecast' column and correspond to the 'Date'\n",
    "\n",
    "# Create a DataFrame to hold all forecasted data\n",
    "forecast_data = best_models[['Country', 'Age', 'Sex', 'Date', 'Forecast']].copy()\n",
    "\n",
    "# Convert 'Date' to datetime\n",
    "forecast_data['Date'] = pd.to_datetime(forecast_data['Date'])\n",
    "\n",
    "# Extract Year and Month from Date\n",
    "forecast_data['Year'] = forecast_data['Date'].dt.year\n",
    "forecast_data['Month'] = forecast_data['Date'].dt.month\n",
    "\n",
    "# Rename 'Forecast' to 'Unemployment Rate (%)' to match the initial dataset\n",
    "forecast_data.rename(columns={'Forecast': 'Unemployment Rate (%)'}, inplace=True)\n",
    "\n",
    "# Select and reorder columns to match the initial dataset\n",
    "forecast_data = forecast_data[['Age', 'Sex', 'Country', 'Unemployment Rate (%)', 'Year', 'Month']]\n",
    "\n",
    "# Display the forecast data sample\n",
    "print(\"\\nForecast Data Sample:\")\n",
    "print(forecast_data.head())\n",
    "\n",
    "# -----------------------------\n",
    "# Step 4: Append Forecasts to Initial Data\n",
    "# -----------------------------\n",
    "\n",
    "# Ensure that both datasets have the same data types for merging\n",
    "# For example, ensure 'Age', 'Sex', 'Country' are of type string\n",
    "for col in ['Age', 'Sex', 'Country']:\n",
    "    initial_data[col] = initial_data[col].astype(str)\n",
    "    forecast_data[col] = forecast_data[col].astype(str)\n",
    "\n",
    "# Similarly, ensure 'Year' and 'Month' are integers\n",
    "initial_data['Year'] = initial_data['Year'].astype(int)\n",
    "initial_data['Month'] = initial_data['Month'].astype(int)\n",
    "forecast_data['Year'] = forecast_data['Year'].astype(int)\n",
    "forecast_data['Month'] = forecast_data['Month'].astype(int)\n",
    "\n",
    "# Concatenate the initial data with the forecast data\n",
    "combined_data = pd.concat([initial_data, forecast_data], ignore_index=True)\n",
    "\n",
    "# Sort the combined data for better readability\n",
    "combined_data.sort_values(by=['Country', 'Age', 'Sex', 'Year', 'Month'], inplace=True)\n",
    "\n",
    "# Reset the index\n",
    "combined_data.reset_index(drop=True, inplace=True)\n",
    "\n",
    "# Display the combined data sample\n",
    "print(\"\\nCombined Data Sample:\")\n",
    "print(combined_data.tail())\n",
    "\n",
    "# -----------------------------\n",
    "# Step 5: Save the Combined Dataset\n",
    "# -----------------------------\n",
    "#\n",
    "# # Save the combined dataset to a new CSV file\n",
    "# combined_data.to_csv(output_data_path, index=False)\n",
    "#\n",
    "# print(f\"\\nForecasts have been successfully integrated into the initial dataset and saved to '{output_data_path}'.\")\n"
   ],
   "metadata": {
    "collapsed": false,
    "ExecuteTime": {
     "end_time": "2024-11-24T14:44:09.866220300Z",
     "start_time": "2024-11-24T14:44:09.798471900Z"
    }
   }
  },
  {
   "cell_type": "code",
   "execution_count": 13,
   "outputs": [
    {
     "data": {
      "text/plain": "         Age     Sex  Country  Unemployment Rate (%)  Year  Month\n0      15-24  Female  Algeria               0.366337  2014      3\n1      15-24  Female  Algeria               0.413681  2014      9\n2      15-24  Female  Algeria               0.453020  2015      3\n3      15-24  Female  Algeria               0.453020  2015      9\n4      15-24  Female  Algeria               0.399240  2016      3\n...      ...     ...      ...                    ...   ...    ...\n30923    25+   Total  Uruguay               0.058608  2024      2\n30924    25+   Total  Uruguay               0.062042  2024      3\n30925    25+   Total  Uruguay               0.059679  2024      4\n30926    25+   Total  Uruguay               0.058946  2024      5\n30927    25+   Total  Uruguay               0.054471  2024      6\n\n[30928 rows x 6 columns]",
      "text/html": "<div>\n<style scoped>\n    .dataframe tbody tr th:only-of-type {\n        vertical-align: middle;\n    }\n\n    .dataframe tbody tr th {\n        vertical-align: top;\n    }\n\n    .dataframe thead th {\n        text-align: right;\n    }\n</style>\n<table border=\"1\" class=\"dataframe\">\n  <thead>\n    <tr style=\"text-align: right;\">\n      <th></th>\n      <th>Age</th>\n      <th>Sex</th>\n      <th>Country</th>\n      <th>Unemployment Rate (%)</th>\n      <th>Year</th>\n      <th>Month</th>\n    </tr>\n  </thead>\n  <tbody>\n    <tr>\n      <th>0</th>\n      <td>15-24</td>\n      <td>Female</td>\n      <td>Algeria</td>\n      <td>0.366337</td>\n      <td>2014</td>\n      <td>3</td>\n    </tr>\n    <tr>\n      <th>1</th>\n      <td>15-24</td>\n      <td>Female</td>\n      <td>Algeria</td>\n      <td>0.413681</td>\n      <td>2014</td>\n      <td>9</td>\n    </tr>\n    <tr>\n      <th>2</th>\n      <td>15-24</td>\n      <td>Female</td>\n      <td>Algeria</td>\n      <td>0.453020</td>\n      <td>2015</td>\n      <td>3</td>\n    </tr>\n    <tr>\n      <th>3</th>\n      <td>15-24</td>\n      <td>Female</td>\n      <td>Algeria</td>\n      <td>0.453020</td>\n      <td>2015</td>\n      <td>9</td>\n    </tr>\n    <tr>\n      <th>4</th>\n      <td>15-24</td>\n      <td>Female</td>\n      <td>Algeria</td>\n      <td>0.399240</td>\n      <td>2016</td>\n      <td>3</td>\n    </tr>\n    <tr>\n      <th>...</th>\n      <td>...</td>\n      <td>...</td>\n      <td>...</td>\n      <td>...</td>\n      <td>...</td>\n      <td>...</td>\n    </tr>\n    <tr>\n      <th>30923</th>\n      <td>25+</td>\n      <td>Total</td>\n      <td>Uruguay</td>\n      <td>0.058608</td>\n      <td>2024</td>\n      <td>2</td>\n    </tr>\n    <tr>\n      <th>30924</th>\n      <td>25+</td>\n      <td>Total</td>\n      <td>Uruguay</td>\n      <td>0.062042</td>\n      <td>2024</td>\n      <td>3</td>\n    </tr>\n    <tr>\n      <th>30925</th>\n      <td>25+</td>\n      <td>Total</td>\n      <td>Uruguay</td>\n      <td>0.059679</td>\n      <td>2024</td>\n      <td>4</td>\n    </tr>\n    <tr>\n      <th>30926</th>\n      <td>25+</td>\n      <td>Total</td>\n      <td>Uruguay</td>\n      <td>0.058946</td>\n      <td>2024</td>\n      <td>5</td>\n    </tr>\n    <tr>\n      <th>30927</th>\n      <td>25+</td>\n      <td>Total</td>\n      <td>Uruguay</td>\n      <td>0.054471</td>\n      <td>2024</td>\n      <td>6</td>\n    </tr>\n  </tbody>\n</table>\n<p>30928 rows × 6 columns</p>\n</div>"
     },
     "execution_count": 13,
     "metadata": {},
     "output_type": "execute_result"
    }
   ],
   "source": [
    "combined_data\n"
   ],
   "metadata": {
    "collapsed": false,
    "ExecuteTime": {
     "end_time": "2024-11-24T14:44:09.947794800Z",
     "start_time": "2024-11-24T14:44:09.866220300Z"
    }
   }
  },
  {
   "cell_type": "code",
   "execution_count": 14,
   "outputs": [],
   "source": [
    "combined_data.to_csv('./result_with_2025.csv', index=False)\n"
   ],
   "metadata": {
    "collapsed": false,
    "ExecuteTime": {
     "end_time": "2024-11-24T14:44:09.966604100Z",
     "start_time": "2024-11-24T14:44:09.907728100Z"
    }
   }
  }
 ],
 "metadata": {
  "kernelspec": {
   "display_name": "Python 3",
   "language": "python",
   "name": "python3"
  },
  "language_info": {
   "codemirror_mode": {
    "name": "ipython",
    "version": 2
   },
   "file_extension": ".py",
   "mimetype": "text/x-python",
   "name": "python",
   "nbconvert_exporter": "python",
   "pygments_lexer": "ipython2",
   "version": "2.7.6"
  }
 },
 "nbformat": 4,
 "nbformat_minor": 0
}
